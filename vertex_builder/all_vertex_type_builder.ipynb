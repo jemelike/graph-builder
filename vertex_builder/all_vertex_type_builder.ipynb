{
 "cells": [
  {
   "cell_type": "code",
   "execution_count": 1,
   "id": "5b444b2d",
   "metadata": {},
   "outputs": [
    {
     "data": {
      "text/plain": [
       "'1.20.3'"
      ]
     },
     "execution_count": 1,
     "metadata": {},
     "output_type": "execute_result"
    }
   ],
   "source": [
    "from __future__  import print_function  # Python 2/3 compatibility\n",
    "\n",
    "import pkg_resources\n",
    "import json\n",
    "import pandas as pd\n",
    "import boto3\n",
    "\n",
    "pkg_resources.get_distribution(\"boto3\").version"
   ]
  },
  {
   "cell_type": "code",
   "execution_count": 2,
   "id": "9584f873",
   "metadata": {},
   "outputs": [],
   "source": [
    "s3 = boto3.client('s3')\n",
    "\n",
    "response = s3.get_object(\n",
    "    Bucket='bearly-graph',\n",
    "    Key='src/mpd.slice.0-999.json',\n",
    ")\n",
    "# Extracts body of the \n",
    "body = response['Body']\n",
    "str_body = body.read()\n",
    "s3_obj_content = json.loads(str_body)\n",
    "playlists = s3_obj_content['playlists']"
   ]
  },
  {
   "cell_type": "code",
   "execution_count": 3,
   "id": "4ce3a54a",
   "metadata": {},
   "outputs": [],
   "source": [
    "playlist_vertices=[]\n",
    "album_vertices=[]\n",
    "artist_vertices=[]\n",
    "track_vertices=[]\n",
    "vertex_list = []\n",
    "\n",
    "for playlist in playlists:  \n",
    "    vertex_dict = {}\n",
    "    vertex_dict['~id'] = f\"playlist_{playlist['pid']}\"\n",
    "    vertex_dict['name:String'] =  playlist['name']\n",
    "    vertex_dict['modified_at:Int'] =  playlist['modified_at']\n",
    "    vertex_dict['num_albums:Int'] =  int(playlist['num_albums'])\n",
    "    vertex_dict['num_tracks:Int'] =  int(playlist['num_tracks'])\n",
    "    vertex_dict['num_followers:Int'] =  int(playlist['num_followers'])\n",
    "    vertex_dict['num_edits:Int'] =  int(playlist['num_edits'])\n",
    "    vertex_dict['duration_ms:Int'] =  int(playlist['duration_ms'])\n",
    "    vertex_dict['num_artists:Int'] =  int(playlist['num_artists'])\n",
    "    vertex_dict['~label'] =  'playlist'\n",
    "    playlist_vertices.append(vertex_dict)\n",
    "    tracks = playlist['tracks']\n",
    "    for track in tracks:\n",
    "        vertex_dict = {}\n",
    "        \n",
    "        # album vertex\n",
    "        vertex_dict['~id'] = track['album_uri']\n",
    "        vertex_dict['album_name:String'] =  track['album_name']\n",
    "        vertex_dict['~label'] =  'album'\n",
    "        album_vertices.append(vertex_dict)\n",
    "        \n",
    "        # track vertex\n",
    "        vertex_dict = {}\n",
    "        \n",
    "        vertex_dict['~id'] = track['track_uri']\n",
    "        vertex_dict['track_name:String'] =  track['track_name']\n",
    "        vertex_dict['duration_ms:Int'] =  int(track['duration_ms'])\n",
    "        vertex_dict['~label'] =  'track'\n",
    "        track_vertices.append(vertex_dict)\n",
    "        \n",
    "        # artist vertex\n",
    "        vertex_dict = {}\n",
    "        vertex_dict['~id'] = track[\"artist_uri\"]\n",
    "        vertex_dict['artist_name:String'] =  track['artist_name']\n",
    "        vertex_dict['~label'] =  'artist'\n",
    "        artist_vertices.append(vertex_dict)"
   ]
  },
  {
   "cell_type": "code",
   "execution_count": 5,
   "id": "7a2fe7fb",
   "metadata": {},
   "outputs": [
    {
     "name": "stdout",
     "output_type": "stream",
     "text": [
      "67503\n",
      "67503\n",
      "67503\n",
      "202509\n"
     ]
    }
   ],
   "source": [
    "# client_id=''\n",
    "# client_secret=''\n",
    "\n",
    "# import spotipy\n",
    "# from spotipy.oauth2 import SpotifyClientCredentials\n",
    "\n",
    "# spotify = spotipy.Spotify(client_credentials_manager=SpotifyClientCredentials(client_id=client_id,client_secret=client_secret))\n"
   ]
  },
  {
   "cell_type": "code",
   "execution_count": 7,
   "id": "c8a98664",
   "metadata": {},
   "outputs": [],
   "source": [
    "# Enrich artist vertices\n",
    "# for artist in artist_vertices:\n",
    "#     results = spotify.artist(artist.get('~id'))\n",
    "#     artist['genres:String[]'] = results.get('genres',[])\n",
    "#     artist['followers:Int'] = results.get('followers',{}).get('total', 0)\n",
    "#     artist['popularity:Int'] = results.get('popularity', 0)"
   ]
  },
  {
   "cell_type": "code",
   "execution_count": null,
   "id": "17c980ff",
   "metadata": {},
   "outputs": [],
   "source": [
    "# Enrich album vertices\n",
    "# for album in album_vertices:\n",
    "#     results = spotify.album(album.get('~id'))\n",
    "#     album['available_markets:String[]'] = results.get('available_markets',[])\n",
    "#     album['total_tracks:Int'] = results.get('total_tracks',0)\n",
    "#     album['popularity:Int'] = results.get('popularity',0)\n",
    "#     album['label:String'] = results.get('label','')\n",
    "#     album['genres:String[]'] = results.get('genres',[])\n",
    "#     album['album_type:String'] = results.get('album_type',[])"
   ]
  },
  {
   "cell_type": "code",
   "execution_count": null,
   "id": "cfab0adb",
   "metadata": {},
   "outputs": [],
   "source": [
    "# Enrich track vertices\n",
    "# for track in track_vertices:\n",
    "#     results = spotify.track(track.get('~id'))\n",
    "    "
   ]
  },
  {
   "cell_type": "code",
   "execution_count": null,
   "id": "d2ee79a3",
   "metadata": {},
   "outputs": [],
   "source": [
    "# Load data into data frames\n",
    "\n",
    "\n",
    "playlist_df = pd.DataFrame.from_dict(playlist_vertices)\n",
    "track_df = pd.DataFrame.from_dict(track_vertices)\n",
    "artist_df = pd.DataFrame.from_dict(artist_vertices)\n",
    "album_df = pd.DataFrame.from_dict(album_vertices)\n"
   ]
  },
  {
   "cell_type": "code",
   "execution_count": null,
   "id": "2fe902df",
   "metadata": {},
   "outputs": [],
   "source": [
    "# Load vertices into S3\n",
    "\n",
    "b_string = playlist_df.to_csv(index=False).encode('utf-8')\n",
    "s3.put_object(Body=b_string, Bucket='bearly-graph', Key='vertex/version=2/playlist_vertex_0.csv')\n",
    "b_string = album_df.to_csv(index=False).encode('utf-8')\n",
    "s3.put_object(Body=b_string, Bucket='bearly-graph', Key='vertex/version=2/album_vertex_0.csv')\n",
    "b_string = artist_df.to_csv(index=False).encode('utf-8')\n",
    "s3.put_object(Body=b_string, Bucket='bearly-graph', Key='vertex/version=2/artist_vertex_0.csv')\n",
    "b_string = track_df.to_csv(index=False).encode('utf-8')\n",
    "s3.put_object(Body=b_string, Bucket='bearly-graph', Key='vertex/version=2/track_vertex_0.csv')"
   ]
  },
  {
   "cell_type": "raw",
   "id": "59b41beb",
   "metadata": {},
   "source": []
  }
 ],
 "metadata": {
  "interpreter": {
   "hash": "37a43131f05e6f24d709e0162076dfbd2f6ab8fa70b98f47343c650cf6fb8e4e"
  },
  "kernelspec": {
   "display_name": "conda_python3",
   "language": "python",
   "name": "python3"
  },
  "language_info": {
   "codemirror_mode": {
    "name": "ipython",
    "version": 3
   },
   "file_extension": ".py",
   "mimetype": "text/x-python",
   "name": "python",
   "nbconvert_exporter": "python",
   "pygments_lexer": "ipython3",
   "version": "3.9.0"
  }
 },
 "nbformat": 4,
 "nbformat_minor": 5
}
