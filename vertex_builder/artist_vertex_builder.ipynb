{
 "cells": [
  {
   "cell_type": "code",
   "execution_count": 1,
   "id": "e5e0d618",
   "metadata": {},
   "outputs": [
    {
     "data": {
      "text/plain": [
       "'1.19.3'"
      ]
     },
     "execution_count": 1,
     "metadata": {},
     "output_type": "execute_result"
    }
   ],
   "source": [
    "from __future__  import print_function  # Python 2/3 compatibility\n",
    "\n",
    "import pkg_resources\n",
    "import json\n",
    "import pandas as pd\n",
    "import boto3\n",
    "pkg_resources.get_distribution(\"boto3\").version"
   ]
  },
  {
   "cell_type": "code",
   "execution_count": 2,
   "id": "4bbe5748",
   "metadata": {},
   "outputs": [],
   "source": [
    "s3 = boto3.client('s3')\n",
    "\n",
    "response = s3.get_object(\n",
    "    Bucket='bearly-graph',\n",
    "    Key='src/mpd.slice.0-999.json',\n",
    ")\n",
    "# Extracts body of the \n",
    "body = response['Body']\n",
    "str_body = body.read()\n",
    "s3_obj_content = json.loads(str_body)\n",
    "playlists = s3_obj_content['playlists']"
   ]
  },
  {
   "cell_type": "code",
   "execution_count": 5,
   "id": "abfc440b",
   "metadata": {},
   "outputs": [],
   "source": [
    "artist_list = []\n",
    "\n",
    "for playlist in playlists:\n",
    "    tracks = playlist['tracks']\n",
    "    for track in tracks:\n",
    "        artist_dict = {}\n",
    "        artist_dict['~id'] = track['artist_uri']\n",
    "        artist_dict['artist_name:String'] =  track['artist_name']\n",
    "        artist_dict['label'] =  'artist'\n",
    "        artist_list.append(artist_dict)\n",
    "\n",
    "df = pd.DataFrame.from_dict(artist_list)\n",
    "\n",
    "    "
   ]
  },
  {
   "cell_type": "code",
   "execution_count": 6,
   "id": "de6d9fe8",
   "metadata": {},
   "outputs": [
    {
     "data": {
      "text/html": [
       "<div>\n",
       "<style scoped>\n",
       "    .dataframe tbody tr th:only-of-type {\n",
       "        vertical-align: middle;\n",
       "    }\n",
       "\n",
       "    .dataframe tbody tr th {\n",
       "        vertical-align: top;\n",
       "    }\n",
       "\n",
       "    .dataframe thead th {\n",
       "        text-align: right;\n",
       "    }\n",
       "</style>\n",
       "<table border=\"1\" class=\"dataframe\">\n",
       "  <thead>\n",
       "    <tr style=\"text-align: right;\">\n",
       "      <th></th>\n",
       "      <th>~id</th>\n",
       "      <th>artist_name:String</th>\n",
       "      <th>label</th>\n",
       "    </tr>\n",
       "  </thead>\n",
       "  <tbody>\n",
       "    <tr>\n",
       "      <th>0</th>\n",
       "      <td>spotify:artist:2wIVse2owClT7go1WT98tk</td>\n",
       "      <td>Missy Elliott</td>\n",
       "      <td>artist</td>\n",
       "    </tr>\n",
       "    <tr>\n",
       "      <th>1</th>\n",
       "      <td>spotify:artist:26dSoYclwsYLMAKD3tpOr4</td>\n",
       "      <td>Britney Spears</td>\n",
       "      <td>artist</td>\n",
       "    </tr>\n",
       "    <tr>\n",
       "      <th>2</th>\n",
       "      <td>spotify:artist:6vWDO969PvNqNYHIOW5v0m</td>\n",
       "      <td>Beyoncé</td>\n",
       "      <td>artist</td>\n",
       "    </tr>\n",
       "    <tr>\n",
       "      <th>3</th>\n",
       "      <td>spotify:artist:31TPClRtHm23RisEBtV3X7</td>\n",
       "      <td>Justin Timberlake</td>\n",
       "      <td>artist</td>\n",
       "    </tr>\n",
       "    <tr>\n",
       "      <th>4</th>\n",
       "      <td>spotify:artist:5EvFsr3kj42KNv97ZEnqij</td>\n",
       "      <td>Shaggy</td>\n",
       "      <td>artist</td>\n",
       "    </tr>\n",
       "    <tr>\n",
       "      <th>...</th>\n",
       "      <td>...</td>\n",
       "      <td>...</td>\n",
       "      <td>...</td>\n",
       "    </tr>\n",
       "    <tr>\n",
       "      <th>67498</th>\n",
       "      <td>spotify:artist:4IWBUUAFIplrNtaOHcJPRM</td>\n",
       "      <td>James Arthur</td>\n",
       "      <td>artist</td>\n",
       "    </tr>\n",
       "    <tr>\n",
       "      <th>67499</th>\n",
       "      <td>spotify:artist:0sHN89qak07mnug3LVVjzP</td>\n",
       "      <td>Big Words</td>\n",
       "      <td>artist</td>\n",
       "    </tr>\n",
       "    <tr>\n",
       "      <th>67500</th>\n",
       "      <td>spotify:artist:6Yv6OBXD6ZQakEljaGaDAk</td>\n",
       "      <td>Allan Rayman</td>\n",
       "      <td>artist</td>\n",
       "    </tr>\n",
       "    <tr>\n",
       "      <th>67501</th>\n",
       "      <td>spotify:artist:77bNdkKYBBmc30CisCA6tE</td>\n",
       "      <td>Jon Jason</td>\n",
       "      <td>artist</td>\n",
       "    </tr>\n",
       "    <tr>\n",
       "      <th>67502</th>\n",
       "      <td>spotify:artist:6Xa4nbrSTfbioA4lLShbjh</td>\n",
       "      <td>Grizfolk</td>\n",
       "      <td>artist</td>\n",
       "    </tr>\n",
       "  </tbody>\n",
       "</table>\n",
       "<p>67503 rows × 3 columns</p>\n",
       "</div>"
      ],
      "text/plain": [
       "                                         ~id artist_name:String   label\n",
       "0      spotify:artist:2wIVse2owClT7go1WT98tk      Missy Elliott  artist\n",
       "1      spotify:artist:26dSoYclwsYLMAKD3tpOr4     Britney Spears  artist\n",
       "2      spotify:artist:6vWDO969PvNqNYHIOW5v0m            Beyoncé  artist\n",
       "3      spotify:artist:31TPClRtHm23RisEBtV3X7  Justin Timberlake  artist\n",
       "4      spotify:artist:5EvFsr3kj42KNv97ZEnqij             Shaggy  artist\n",
       "...                                      ...                ...     ...\n",
       "67498  spotify:artist:4IWBUUAFIplrNtaOHcJPRM       James Arthur  artist\n",
       "67499  spotify:artist:0sHN89qak07mnug3LVVjzP          Big Words  artist\n",
       "67500  spotify:artist:6Yv6OBXD6ZQakEljaGaDAk       Allan Rayman  artist\n",
       "67501  spotify:artist:77bNdkKYBBmc30CisCA6tE          Jon Jason  artist\n",
       "67502  spotify:artist:6Xa4nbrSTfbioA4lLShbjh           Grizfolk  artist\n",
       "\n",
       "[67503 rows x 3 columns]"
      ]
     },
     "execution_count": 6,
     "metadata": {},
     "output_type": "execute_result"
    }
   ],
   "source": [
    "df.drop_duplicates()"
   ]
  },
  {
   "cell_type": "code",
   "execution_count": 10,
   "id": "be0b7ab2",
   "metadata": {},
   "outputs": [
    {
     "data": {
      "text/plain": [
       "{'ResponseMetadata': {'RequestId': 'X97WJQY99MFGZ054',\n",
       "  'HostId': 'pk+KpUZjpBqfb8B5WTYprGmGMTSYlbwP/THgEqEU1u0nbS8AqzF/HrsyuXwhHpBv9aBlyFePq7A=',\n",
       "  'HTTPStatusCode': 200,\n",
       "  'HTTPHeaders': {'x-amz-id-2': 'pk+KpUZjpBqfb8B5WTYprGmGMTSYlbwP/THgEqEU1u0nbS8AqzF/HrsyuXwhHpBv9aBlyFePq7A=',\n",
       "   'x-amz-request-id': 'X97WJQY99MFGZ054',\n",
       "   'date': 'Tue, 02 Nov 2021 02:43:26 GMT',\n",
       "   'etag': '\"033cb3d87d84f956ae351f7b94794433\"',\n",
       "   'server': 'AmazonS3',\n",
       "   'content-length': '0'},\n",
       "  'RetryAttempts': 0},\n",
       " 'ETag': '\"033cb3d87d84f956ae351f7b94794433\"'}"
      ]
     },
     "execution_count": 10,
     "metadata": {},
     "output_type": "execute_result"
    }
   ],
   "source": [
    "b_string = df.to_csv().encode('utf-8')\n",
    "s3.put_object(Body=b_string, Bucket='bearly-graph', Key='vertex/version=2/artist_vertex_0.csv')"
   ]
  },
  {
   "cell_type": "code",
   "execution_count": null,
   "id": "3f12c3ed",
   "metadata": {},
   "outputs": [],
   "source": []
  }
 ],
 "metadata": {
  "interpreter": {
   "hash": "345b8b69abbd618ae07b4c9c43ee44b8681224b5aaffba047a3c322e5cb736b4"
  },
  "kernelspec": {
   "display_name": "Python 3.9.0 64-bit",
   "name": "python3"
  },
  "language_info": {
   "codemirror_mode": {
    "name": "ipython",
    "version": 3
   },
   "file_extension": ".py",
   "mimetype": "text/x-python",
   "name": "python",
   "nbconvert_exporter": "python",
   "pygments_lexer": "ipython3",
   "version": "3.9.0"
  }
 },
 "nbformat": 4,
 "nbformat_minor": 5
}
