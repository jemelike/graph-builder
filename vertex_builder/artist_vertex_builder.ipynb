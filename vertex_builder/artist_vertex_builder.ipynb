{
 "cells": [
  {
   "cell_type": "code",
   "execution_count": 13,
   "id": "db4fd0a2",
   "metadata": {},
   "outputs": [
    {
     "data": {
      "text/plain": [
       "'1.16.30'"
      ]
     },
     "execution_count": 13,
     "metadata": {},
     "output_type": "execute_result"
    }
   ],
   "source": [
    "from __future__  import print_function  # Python 2/3 compatibility\n",
    "\n",
    "import pkg_resources\n",
    "import json\n",
    "import boto3\n",
    "pkg_resources.get_distribution(\"boto3\").version"
   ]
  },
  {
   "cell_type": "code",
   "execution_count": 14,
   "id": "618d4a4a",
   "metadata": {},
   "outputs": [],
   "source": [
    "s3 = boto3.client('s3')\n",
    "\n",
    "response = s3.get_object(\n",
    "    Bucket='bearly-graph',\n",
    "    Key='src/mpd.slice.0-999.json',\n",
    ")\n",
    "# Extracts body of the \n",
    "body = response['Body']\n",
    "str_body = body.read()\n",
    "s3_obj_content = json.loads(str_body)"
   ]
  },
  {
   "cell_type": "code",
   "execution_count": 15,
   "id": "4f89ab9e",
   "metadata": {},
   "outputs": [],
   "source": []
  },
  {
   "cell_type": "code",
   "execution_count": 17,
   "metadata": {},
   "outputs": [
    {
     "data": {
      "text/plain": [
       "True"
      ]
     },
     "execution_count": 17,
     "metadata": {},
     "output_type": "execute_result"
    }
   ],
   "source": [
    "isinstance(s3_obj_content,dict)"
   ]
  },
  {
   "cell_type": "code",
   "execution_count": null,
   "metadata": {},
   "outputs": [],
   "source": []
  }
 ],
 "metadata": {
  "interpreter": {
   "hash": "345b8b69abbd618ae07b4c9c43ee44b8681224b5aaffba047a3c322e5cb736b4"
  },
  "kernelspec": {
   "display_name": "Python 3.9.0 64-bit",
   "name": "python3"
  },
  "language_info": {
   "codemirror_mode": {
    "name": "ipython",
    "version": 3
   },
   "file_extension": ".py",
   "mimetype": "text/x-python",
   "name": "python",
   "nbconvert_exporter": "python",
   "pygments_lexer": "ipython3",
   "version": "3.9.0"
  }
 },
 "nbformat": 4,
 "nbformat_minor": 5
}
