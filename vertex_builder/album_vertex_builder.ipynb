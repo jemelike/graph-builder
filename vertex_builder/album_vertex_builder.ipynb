{
 "cells": [
  {
   "cell_type": "code",
   "execution_count": 1,
   "id": "45069eaa",
   "metadata": {},
   "outputs": [
    {
     "data": {
      "text/plain": [
       "'1.19.3'"
      ]
     },
     "execution_count": 1,
     "metadata": {},
     "output_type": "execute_result"
    }
   ],
   "source": [
    "from __future__  import print_function  # Python 2/3 compatibility\n",
    "\n",
    "import pkg_resources\n",
    "import json\n",
    "import pandas as pd\n",
    "import boto3\n",
    "pkg_resources.get_distribution(\"boto3\").version"
   ]
  },
  {
   "cell_type": "code",
   "execution_count": 2,
   "id": "66b19559",
   "metadata": {},
   "outputs": [],
   "source": [
    "s3 = boto3.client('s3')\n",
    "\n",
    "response = s3.get_object(\n",
    "    Bucket='bearly-graph',\n",
    "    Key='src/mpd.slice.0-999.json',\n",
    ")\n",
    "# Extracts body of the \n",
    "body = response['Body']\n",
    "str_body = body.read()\n",
    "s3_obj_content = json.loads(str_body)\n",
    "playlists = s3_obj_content['playlists']"
   ]
  },
  {
   "cell_type": "code",
   "execution_count": 3,
   "id": "041f53b3",
   "metadata": {},
   "outputs": [],
   "source": [
    "artist_list = []\n",
    "\n",
    "for playlist in playlists:\n",
    "    tracks = playlist['tracks']\n",
    "    for track in tracks:\n",
    "        artist_dict = {}\n",
    "        artist_dict['~id'] = track['album_uri']\n",
    "        artist_dict['album_name:String'] =  track['album_name']\n",
    "        artist_dict['label'] =  'album'\n",
    "        artist_list.append(artist_dict)\n",
    "\n",
    "df = pd.DataFrame.from_dict(artist_list)\n",
    "\n",
    "    "
   ]
  },
  {
   "cell_type": "code",
   "execution_count": 4,
   "id": "a76157a4",
   "metadata": {},
   "outputs": [
    {
     "data": {
      "text/html": [
       "<div>\n",
       "<style scoped>\n",
       "    .dataframe tbody tr th:only-of-type {\n",
       "        vertical-align: middle;\n",
       "    }\n",
       "\n",
       "    .dataframe tbody tr th {\n",
       "        vertical-align: top;\n",
       "    }\n",
       "\n",
       "    .dataframe thead th {\n",
       "        text-align: right;\n",
       "    }\n",
       "</style>\n",
       "<table border=\"1\" class=\"dataframe\">\n",
       "  <thead>\n",
       "    <tr style=\"text-align: right;\">\n",
       "      <th></th>\n",
       "      <th>~id</th>\n",
       "      <th>album_name:String</th>\n",
       "      <th>label</th>\n",
       "    </tr>\n",
       "  </thead>\n",
       "  <tbody>\n",
       "    <tr>\n",
       "      <th>0</th>\n",
       "      <td>spotify:album:6vV5UrXcfyQD1wu4Qo2I9K</td>\n",
       "      <td>The Cookbook</td>\n",
       "      <td>album</td>\n",
       "    </tr>\n",
       "    <tr>\n",
       "      <th>1</th>\n",
       "      <td>spotify:album:0z7pVBGOD7HCIB7S8eLkLI</td>\n",
       "      <td>In The Zone</td>\n",
       "      <td>album</td>\n",
       "    </tr>\n",
       "    <tr>\n",
       "      <th>2</th>\n",
       "      <td>spotify:album:25hVFAxTlDvXbx2X2QkUkE</td>\n",
       "      <td>Dangerously In Love (Alben für die Ewigkeit)</td>\n",
       "      <td>album</td>\n",
       "    </tr>\n",
       "    <tr>\n",
       "      <th>3</th>\n",
       "      <td>spotify:album:6QPkyl04rXwTGlGlcYaRoW</td>\n",
       "      <td>Justified</td>\n",
       "      <td>album</td>\n",
       "    </tr>\n",
       "    <tr>\n",
       "      <th>4</th>\n",
       "      <td>spotify:album:6NmFmPX56pcLBOFMhIiKvF</td>\n",
       "      <td>Hot Shot</td>\n",
       "      <td>album</td>\n",
       "    </tr>\n",
       "    <tr>\n",
       "      <th>...</th>\n",
       "      <td>...</td>\n",
       "      <td>...</td>\n",
       "      <td>...</td>\n",
       "    </tr>\n",
       "    <tr>\n",
       "      <th>67496</th>\n",
       "      <td>spotify:album:2KEQtuVl1cYsTYtVRUrNVi</td>\n",
       "      <td>Roots</td>\n",
       "      <td>album</td>\n",
       "    </tr>\n",
       "    <tr>\n",
       "      <th>67499</th>\n",
       "      <td>spotify:album:5jrsRHRAmetu5e7RRBoxj7</td>\n",
       "      <td>Hollywood, a Beautiful Coincidence</td>\n",
       "      <td>album</td>\n",
       "    </tr>\n",
       "    <tr>\n",
       "      <th>67500</th>\n",
       "      <td>spotify:album:3CbNgBzI7r9o0F6VjH9sTY</td>\n",
       "      <td>Roadhouse 01</td>\n",
       "      <td>album</td>\n",
       "    </tr>\n",
       "    <tr>\n",
       "      <th>67501</th>\n",
       "      <td>spotify:album:2dZ7oVNQBeLlpoUYfbEsJP</td>\n",
       "      <td>Good Feeling</td>\n",
       "      <td>album</td>\n",
       "    </tr>\n",
       "    <tr>\n",
       "      <th>67502</th>\n",
       "      <td>spotify:album:7D6Y19tjm4DQNch39FeWpO</td>\n",
       "      <td>Cosmic Angel</td>\n",
       "      <td>album</td>\n",
       "    </tr>\n",
       "  </tbody>\n",
       "</table>\n",
       "<p>19261 rows × 3 columns</p>\n",
       "</div>"
      ],
      "text/plain": [
       "                                        ~id  \\\n",
       "0      spotify:album:6vV5UrXcfyQD1wu4Qo2I9K   \n",
       "1      spotify:album:0z7pVBGOD7HCIB7S8eLkLI   \n",
       "2      spotify:album:25hVFAxTlDvXbx2X2QkUkE   \n",
       "3      spotify:album:6QPkyl04rXwTGlGlcYaRoW   \n",
       "4      spotify:album:6NmFmPX56pcLBOFMhIiKvF   \n",
       "...                                     ...   \n",
       "67496  spotify:album:2KEQtuVl1cYsTYtVRUrNVi   \n",
       "67499  spotify:album:5jrsRHRAmetu5e7RRBoxj7   \n",
       "67500  spotify:album:3CbNgBzI7r9o0F6VjH9sTY   \n",
       "67501  spotify:album:2dZ7oVNQBeLlpoUYfbEsJP   \n",
       "67502  spotify:album:7D6Y19tjm4DQNch39FeWpO   \n",
       "\n",
       "                                  album_name:String  label  \n",
       "0                                      The Cookbook  album  \n",
       "1                                       In The Zone  album  \n",
       "2      Dangerously In Love (Alben für die Ewigkeit)  album  \n",
       "3                                         Justified  album  \n",
       "4                                          Hot Shot  album  \n",
       "...                                             ...    ...  \n",
       "67496                                         Roots  album  \n",
       "67499            Hollywood, a Beautiful Coincidence  album  \n",
       "67500                                  Roadhouse 01  album  \n",
       "67501                                  Good Feeling  album  \n",
       "67502                                  Cosmic Angel  album  \n",
       "\n",
       "[19261 rows x 3 columns]"
      ]
     },
     "execution_count": 4,
     "metadata": {},
     "output_type": "execute_result"
    }
   ],
   "source": [
    "df.drop_duplicates()"
   ]
  },
  {
   "cell_type": "code",
   "execution_count": 5,
   "id": "b2177837",
   "metadata": {},
   "outputs": [
    {
     "data": {
      "text/plain": [
       "{'ResponseMetadata': {'RequestId': 'F81F0EJAD9HD6V81',\n",
       "  'HostId': 'UAhq5PP+0A7fuX6Kyl/MoO3q08iTuWy2c9sf58CtjXheGKF4vYAG5EqDdNC4u32uvJ7MjRiWUT0=',\n",
       "  'HTTPStatusCode': 200,\n",
       "  'HTTPHeaders': {'x-amz-id-2': 'UAhq5PP+0A7fuX6Kyl/MoO3q08iTuWy2c9sf58CtjXheGKF4vYAG5EqDdNC4u32uvJ7MjRiWUT0=',\n",
       "   'x-amz-request-id': 'F81F0EJAD9HD6V81',\n",
       "   'date': 'Tue, 02 Nov 2021 04:03:18 GMT',\n",
       "   'etag': '\"621609b475d43bdbcfb6db49d79a2d0c\"',\n",
       "   'server': 'AmazonS3',\n",
       "   'content-length': '0'},\n",
       "  'RetryAttempts': 0},\n",
       " 'ETag': '\"621609b475d43bdbcfb6db49d79a2d0c\"'}"
      ]
     },
     "execution_count": 5,
     "metadata": {},
     "output_type": "execute_result"
    }
   ],
   "source": [
    "b_string = df.to_csv().encode('utf-8')\n",
    "s3.put_object(Body=b_string, Bucket='bearly-graph', Key='vertex/version=2/album_vertex_0.csv')"
   ]
  },
  {
   "cell_type": "code",
   "execution_count": null,
   "id": "b991717b",
   "metadata": {},
   "outputs": [],
   "source": []
  }
 ],
 "metadata": {
  "interpreter": {
   "hash": "345b8b69abbd618ae07b4c9c43ee44b8681224b5aaffba047a3c322e5cb736b4"
  },
  "kernelspec": {
   "display_name": "conda_python3",
   "language": "python",
   "name": "conda_python3"
  },
  "language_info": {
   "codemirror_mode": {
    "name": "ipython",
    "version": 3
   },
   "file_extension": ".py",
   "mimetype": "text/x-python",
   "name": "python",
   "nbconvert_exporter": "python",
   "pygments_lexer": "ipython3",
   "version": "3.6.13"
  }
 },
 "nbformat": 4,
 "nbformat_minor": 5
}
