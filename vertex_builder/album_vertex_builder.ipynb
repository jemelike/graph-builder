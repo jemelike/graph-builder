{
 "cells": [
  {
   "cell_type": "code",
   "execution_count": 1,
   "id": "45069eaa",
   "metadata": {},
   "outputs": [
    {
     "data": {
      "text/plain": [
       "'1.19.3'"
      ]
     },
     "execution_count": 1,
     "metadata": {},
     "output_type": "execute_result"
    }
   ],
   "source": [
    "from __future__  import print_function  # Python 2/3 compatibility\n",
    "\n",
    "import pkg_resources\n",
    "import json\n",
    "import pandas as pd\n",
    "import boto3\n",
    "pkg_resources.get_distribution(\"boto3\").version"
   ]
  },
  {
   "cell_type": "code",
   "execution_count": 2,
   "id": "66b19559",
   "metadata": {},
   "outputs": [],
   "source": [
    "# Need to update to crawl S3 for src folders \n",
    "s3 = boto3.client('s3')\n",
    "\n",
    "response = s3.get_object(\n",
    "    Bucket='bearly-graph',\n",
    "    Key='src/mpd.slice.0-999.json',\n",
    ")\n",
    "# Extracts body of the \n",
    "body = response['Body']\n",
    "str_body = body.read()\n",
    "s3_obj_content = json.loads(str_body)\n",
    "playlists = s3_obj_content['playlists']"
   ]
  },
  {
   "cell_type": "code",
   "execution_count": 3,
   "id": "041f53b3",
   "metadata": {},
   "outputs": [],
   "source": [
    "album_list = []\n",
    "\n",
    "for playlist in playlists:\n",
    "    tracks = playlist['tracks']\n",
    "    for track in tracks:\n",
    "        album_dict = {}\n",
    "        album_dict['~id'] = track['album_uri']\n",
    "        album_dict['album_name:String'] =  track['album_name']\n",
    "        album_dict['label'] =  'album'\n",
    "        album_list.append(album_dict) \n",
    "\n",
    "df = pd.DataFrame.from_dict(album_list)\n",
    "df.drop_duplicates()\n",
    "b_string = df.to_csv().encode('utf-8')\n",
    "key = f'vertex/version=2/album_vertex_{i}.csv'\n",
    "s3.put_object(Body=b_string, Bucket='bearly-graph', Key=key)"
   ]
  }
 ],
 "metadata": {
  "interpreter": {
   "hash": "345b8b69abbd618ae07b4c9c43ee44b8681224b5aaffba047a3c322e5cb736b4"
  },
  "kernelspec": {
   "display_name": "conda_python3",
   "language": "python",
   "name": "conda_python3"
  },
  "language_info": {
   "codemirror_mode": {
    "name": "ipython",
    "version": 3
   },
   "file_extension": ".py",
   "mimetype": "text/x-python",
   "name": "python",
   "nbconvert_exporter": "python",
   "pygments_lexer": "ipython3",
   "version": "3.6.13"
  }
 },
 "nbformat": 4,
 "nbformat_minor": 5
}
