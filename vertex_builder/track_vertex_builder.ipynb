{
 "cells": [
  {
   "cell_type": "code",
   "execution_count": 1,
   "id": "b7f2fa8e",
   "metadata": {},
   "outputs": [
    {
     "data": {
      "text/plain": [
       "'1.19.3'"
      ]
     },
     "execution_count": 1,
     "metadata": {},
     "output_type": "execute_result"
    }
   ],
   "source": [
    "from __future__  import print_function  # Python 2/3 compatibility\n",
    "\n",
    "import pkg_resources\n",
    "import json\n",
    "import pandas as pd\n",
    "import boto3\n",
    "pkg_resources.get_distribution(\"boto3\").version"
   ]
  },
  {
   "cell_type": "code",
   "execution_count": 2,
   "id": "0829a060",
   "metadata": {},
   "outputs": [],
   "source": [
    "s3 = boto3.client('s3')\n",
    "\n",
    "response = s3.get_object(\n",
    "    Bucket='bearly-graph',\n",
    "    Key='src/mpd.slice.0-999.json',\n",
    ")\n",
    "# Extracts body of the \n",
    "body = response['Body']\n",
    "str_body = body.read()\n",
    "s3_obj_content = json.loads(str_body)\n",
    "playlists = s3_obj_content['playlists']"
   ]
  },
  {
   "cell_type": "code",
   "execution_count": 3,
   "id": "b6e0a4a3",
   "metadata": {},
   "outputs": [],
   "source": [
    "track_list = []\n",
    "\n",
    "for playlist in playlists:\n",
    "    tracks = playlist['tracks']\n",
    "    for track in tracks:\n",
    "        track_dict = {}\n",
    "        track_dict['~id'] = track['track_uri']\n",
    "        track_dict['track_name:String'] =  track['track_name']\n",
    "        track_dict['duration_ms:Int'] =  track['duration_ms']\n",
    "        track_dict['label'] =  'track'\n",
    "        track_list.append(track_dict)\n",
    "\n",
    "df = pd.DataFrame.from_dict(track_list)\n",
    "\n",
    "    "
   ]
  },
  {
   "cell_type": "code",
   "execution_count": 4,
   "id": "d576d4dd",
   "metadata": {},
   "outputs": [
    {
     "data": {
      "text/html": [
       "<div>\n",
       "<style scoped>\n",
       "    .dataframe tbody tr th:only-of-type {\n",
       "        vertical-align: middle;\n",
       "    }\n",
       "\n",
       "    .dataframe tbody tr th {\n",
       "        vertical-align: top;\n",
       "    }\n",
       "\n",
       "    .dataframe thead th {\n",
       "        text-align: right;\n",
       "    }\n",
       "</style>\n",
       "<table border=\"1\" class=\"dataframe\">\n",
       "  <thead>\n",
       "    <tr style=\"text-align: right;\">\n",
       "      <th></th>\n",
       "      <th>~id</th>\n",
       "      <th>track_name:String</th>\n",
       "      <th>duration_ms:Int</th>\n",
       "      <th>label</th>\n",
       "    </tr>\n",
       "  </thead>\n",
       "  <tbody>\n",
       "    <tr>\n",
       "      <th>0</th>\n",
       "      <td>spotify:track:0UaMYEvWZi0ZqiDOoHU3YI</td>\n",
       "      <td>Lose Control (feat. Ciara &amp; Fat Man Scoop)</td>\n",
       "      <td>226863</td>\n",
       "      <td>track</td>\n",
       "    </tr>\n",
       "    <tr>\n",
       "      <th>1</th>\n",
       "      <td>spotify:track:6I9VzXrHxO9rA9A5euc8Ak</td>\n",
       "      <td>Toxic</td>\n",
       "      <td>198800</td>\n",
       "      <td>track</td>\n",
       "    </tr>\n",
       "    <tr>\n",
       "      <th>2</th>\n",
       "      <td>spotify:track:0WqIKmW4BTrj3eJFmnCKMv</td>\n",
       "      <td>Crazy In Love</td>\n",
       "      <td>235933</td>\n",
       "      <td>track</td>\n",
       "    </tr>\n",
       "    <tr>\n",
       "      <th>3</th>\n",
       "      <td>spotify:track:1AWQoqb9bSvzTjaLralEkT</td>\n",
       "      <td>Rock Your Body</td>\n",
       "      <td>267266</td>\n",
       "      <td>track</td>\n",
       "    </tr>\n",
       "    <tr>\n",
       "      <th>4</th>\n",
       "      <td>spotify:track:1lzr43nnXAijIGYnCT8M8H</td>\n",
       "      <td>It Wasn't Me</td>\n",
       "      <td>227600</td>\n",
       "      <td>track</td>\n",
       "    </tr>\n",
       "    <tr>\n",
       "      <th>...</th>\n",
       "      <td>...</td>\n",
       "      <td>...</td>\n",
       "      <td>...</td>\n",
       "      <td>...</td>\n",
       "    </tr>\n",
       "    <tr>\n",
       "      <th>67496</th>\n",
       "      <td>spotify:track:3uCHI1gfOUL5j5swEh0TcH</td>\n",
       "      <td>I Don't Know</td>\n",
       "      <td>189183</td>\n",
       "      <td>track</td>\n",
       "    </tr>\n",
       "    <tr>\n",
       "      <th>67499</th>\n",
       "      <td>spotify:track:0P1oO2gREMYUCoOkzYAyFu</td>\n",
       "      <td>The Answer</td>\n",
       "      <td>263679</td>\n",
       "      <td>track</td>\n",
       "    </tr>\n",
       "    <tr>\n",
       "      <th>67500</th>\n",
       "      <td>spotify:track:2oM4BuruDnEvk59IvIXCwn</td>\n",
       "      <td>25.22</td>\n",
       "      <td>189213</td>\n",
       "      <td>track</td>\n",
       "    </tr>\n",
       "    <tr>\n",
       "      <th>67501</th>\n",
       "      <td>spotify:track:4Ri5TTUgjM96tbQZd5Ua7V</td>\n",
       "      <td>Good Feeling</td>\n",
       "      <td>194720</td>\n",
       "      <td>track</td>\n",
       "    </tr>\n",
       "    <tr>\n",
       "      <th>67502</th>\n",
       "      <td>spotify:track:5RVuBrXVLptAEbGJdSDzL5</td>\n",
       "      <td>Cosmic Angel - Acoustic From Capitol Studios</td>\n",
       "      <td>257194</td>\n",
       "      <td>track</td>\n",
       "    </tr>\n",
       "  </tbody>\n",
       "</table>\n",
       "<p>34443 rows × 4 columns</p>\n",
       "</div>"
      ],
      "text/plain": [
       "                                        ~id  \\\n",
       "0      spotify:track:0UaMYEvWZi0ZqiDOoHU3YI   \n",
       "1      spotify:track:6I9VzXrHxO9rA9A5euc8Ak   \n",
       "2      spotify:track:0WqIKmW4BTrj3eJFmnCKMv   \n",
       "3      spotify:track:1AWQoqb9bSvzTjaLralEkT   \n",
       "4      spotify:track:1lzr43nnXAijIGYnCT8M8H   \n",
       "...                                     ...   \n",
       "67496  spotify:track:3uCHI1gfOUL5j5swEh0TcH   \n",
       "67499  spotify:track:0P1oO2gREMYUCoOkzYAyFu   \n",
       "67500  spotify:track:2oM4BuruDnEvk59IvIXCwn   \n",
       "67501  spotify:track:4Ri5TTUgjM96tbQZd5Ua7V   \n",
       "67502  spotify:track:5RVuBrXVLptAEbGJdSDzL5   \n",
       "\n",
       "                                  track_name:String  duration_ms:Int  label  \n",
       "0        Lose Control (feat. Ciara & Fat Man Scoop)           226863  track  \n",
       "1                                             Toxic           198800  track  \n",
       "2                                     Crazy In Love           235933  track  \n",
       "3                                    Rock Your Body           267266  track  \n",
       "4                                      It Wasn't Me           227600  track  \n",
       "...                                             ...              ...    ...  \n",
       "67496                                  I Don't Know           189183  track  \n",
       "67499                                    The Answer           263679  track  \n",
       "67500                                         25.22           189213  track  \n",
       "67501                                  Good Feeling           194720  track  \n",
       "67502  Cosmic Angel - Acoustic From Capitol Studios           257194  track  \n",
       "\n",
       "[34443 rows x 4 columns]"
      ]
     },
     "execution_count": 4,
     "metadata": {},
     "output_type": "execute_result"
    }
   ],
   "source": [
    "df.drop_duplicates()"
   ]
  },
  {
   "cell_type": "code",
   "execution_count": 5,
   "id": "19256f53",
   "metadata": {},
   "outputs": [
    {
     "data": {
      "text/plain": [
       "{'ResponseMetadata': {'RequestId': 'H73R2R08923YVXMM',\n",
       "  'HostId': 'HqGUqV5aveshp8YJpfHCSUInj0Uo3BR31FmY3jexyRjS6LB98XpNkV2gmztzFlY6rBKR8QAiM2s=',\n",
       "  'HTTPStatusCode': 200,\n",
       "  'HTTPHeaders': {'x-amz-id-2': 'HqGUqV5aveshp8YJpfHCSUInj0Uo3BR31FmY3jexyRjS6LB98XpNkV2gmztzFlY6rBKR8QAiM2s=',\n",
       "   'x-amz-request-id': 'H73R2R08923YVXMM',\n",
       "   'date': 'Tue, 02 Nov 2021 04:29:49 GMT',\n",
       "   'etag': '\"9136ce6b08b27f41e13e36b9a37bb287\"',\n",
       "   'server': 'AmazonS3',\n",
       "   'content-length': '0'},\n",
       "  'RetryAttempts': 0},\n",
       " 'ETag': '\"9136ce6b08b27f41e13e36b9a37bb287\"'}"
      ]
     },
     "execution_count": 5,
     "metadata": {},
     "output_type": "execute_result"
    }
   ],
   "source": [
    "b_string = df.to_csv().encode('utf-8')\n",
    "s3.put_object(Body=b_string, Bucket='bearly-graph', Key='vertex/version=2/track_vertex_0.csv')"
   ]
  },
  {
   "cell_type": "code",
   "execution_count": null,
   "id": "aad54116",
   "metadata": {},
   "outputs": [],
   "source": []
  }
 ],
 "metadata": {
  "interpreter": {
   "hash": "345b8b69abbd618ae07b4c9c43ee44b8681224b5aaffba047a3c322e5cb736b4"
  },
  "kernelspec": {
   "display_name": "conda_python3",
   "language": "python",
   "name": "conda_python3"
  },
  "language_info": {
   "codemirror_mode": {
    "name": "ipython",
    "version": 3
   },
   "file_extension": ".py",
   "mimetype": "text/x-python",
   "name": "python",
   "nbconvert_exporter": "python",
   "pygments_lexer": "ipython3",
   "version": "3.6.13"
  }
 },
 "nbformat": 4,
 "nbformat_minor": 5
}
